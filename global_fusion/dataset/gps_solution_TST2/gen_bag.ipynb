{
 "cells": [
  {
   "cell_type": "code",
   "execution_count": 1,
   "metadata": {},
   "outputs": [],
   "source": [
    "import sys\n",
    "sys.path.append(\"/persist/maplab_ws/src/ninebot_gio_coupling\")\n",
    "from gnsspylib.gps_time import GPSTime, gpst_to_utc, utc_to_gpst, adjweek, gen_gpstime_from_bds\n",
    "from gnsspylib.sat_no_prn_id import *\n",
    "from gnsspylib.gen_nav_msg import gen_nav_bag_msg\n",
    "from gnsspylib.gen_obs_msg import gen_bag_msg_list\n",
    "from ninebot_gio_coupling.msg import StampedFloat64Array"
   ]
  },
  {
   "cell_type": "code",
   "execution_count": 2,
   "metadata": {},
   "outputs": [],
   "source": [
    "import georinex as gr\n",
    "obs_dat = gr.load(\"/persist/catkin_ws/src/GraphGNSSLib/global_fusion/dataset/gps_solution_TST2/2020_06_03_TST_03.obs\")\n",
    "base_dat_c = gr.load(\"/persist/catkin_ws/src/GraphGNSSLib/global_fusion/dataset/gps_solution_TST2/hksc155c.20o\")\n",
    "nav_dat_n_c = gr.load(\"/persist/catkin_ws/src/GraphGNSSLib/global_fusion/dataset/gps_solution_TST2/hksc155c.20n\")\n",
    "nav_dat_b_c = gr.load(\"/persist/catkin_ws/src/GraphGNSSLib/global_fusion/dataset/gps_solution_TST2/hksc155c.20b\")\n",
    "nav_dat_l_c = gr.load(\"/persist/catkin_ws/src/GraphGNSSLib/global_fusion/dataset/gps_solution_TST2/hksc155c.20l\")\n",
    "nav_dat_g_c = gr.load(\"/persist/catkin_ws/src/GraphGNSSLib/global_fusion/dataset/gps_solution_TST2/hksc155c.20g\")\n",
    "base_dat_d = gr.load(\"/persist/catkin_ws/src/GraphGNSSLib/global_fusion/dataset/gps_solution_TST2/hksc155d.20o\")\n",
    "nav_dat_n_d = gr.load(\"/persist/catkin_ws/src/GraphGNSSLib/global_fusion/dataset/gps_solution_TST2/hksc155d.20n\")\n",
    "nav_dat_b_d = gr.load(\"/persist/catkin_ws/src/GraphGNSSLib/global_fusion/dataset/gps_solution_TST2/hksc155d.20b\")\n",
    "nav_dat_l_d = gr.load(\"/persist/catkin_ws/src/GraphGNSSLib/global_fusion/dataset/gps_solution_TST2/hksc155d.20l\")\n",
    "nav_dat_g_d = gr.load(\"/persist/catkin_ws/src/GraphGNSSLib/global_fusion/dataset/gps_solution_TST2/hksc155d.20g\")"
   ]
  },
  {
   "cell_type": "code",
   "execution_count": 3,
   "metadata": {},
   "outputs": [
    {
     "name": "stdout",
     "output_type": "stream",
     "text": [
      "{'ionospheric_corr_GAL': [48.25, -0.011719, 0.0075684], 'version': 3.02, 'svtype': ['E'], 'rinextype': 'nav', 'filename': 'hksc155c.20l'}\n"
     ]
    }
   ],
   "source": [
    "print(nav_dat_l_c.attrs)"
   ]
  },
  {
   "cell_type": "code",
   "execution_count": 4,
   "metadata": {},
   "outputs": [
    {
     "name": "stdout",
     "output_type": "stream",
     "text": [
      "1591153365.004 1591154350.005\n"
     ]
    }
   ],
   "source": [
    "obs_bag_msg_list = gen_bag_msg_list(obs_dat, '/gnss/meas')\n",
    "print(obs_bag_msg_list[0][0], obs_bag_msg_list[-1][0])\n",
    "base_timestamp_lambda = lambda x : x > obs_bag_msg_list[0][0] - 60 and x < obs_bag_msg_list[-1][0] + 60\n",
    "# base_timestamp_lambda(1560089800)\n",
    "base_bag_msg_list = gen_bag_msg_list(base_dat_d, '/gnss/base_c/meas', timestamp_lambda=base_timestamp_lambda) + gen_bag_msg_list(base_dat_d, '/gnss/base_d/meas', timestamp_lambda=base_timestamp_lambda)"
   ]
  },
  {
   "cell_type": "code",
   "execution_count": 5,
   "metadata": {},
   "outputs": [],
   "source": [
    "ephem_timestamp_lambda = lambda x : x > obs_bag_msg_list[0][0] - 7300 and x < obs_bag_msg_list[-1][0] + 7300"
   ]
  },
  {
   "cell_type": "code",
   "execution_count": 6,
   "metadata": {},
   "outputs": [
    {
     "name": "stdout",
     "output_type": "stream",
     "text": [
      "G01 2108 266384.0 259110.0 GPSTime(week=2108, tow=266384.0) 2108\n",
      "G11 2108 266384.0 259110.0 GPSTime(week=2108, tow=266384.0) 2108\n",
      "G16 2108 266384.0 259110.0 GPSTime(week=2108, tow=266384.0) 2108\n",
      "G03 2108 266400.0 259140.0 GPSTime(week=2108, tow=266400.0) 2108\n",
      "G04 2108 266400.0 259140.0 GPSTime(week=2108, tow=266400.0) 2108\n",
      "G07 2108 266400.0 259140.0 GPSTime(week=2108, tow=266400.0) 2108\n",
      "G08 2108 266400.0 259140.0 GPSTime(week=2108, tow=266400.0) 2108\n",
      "G09 2108 266400.0 259140.0 GPSTime(week=2108, tow=266400.0) 2108\n",
      "G14 2108 266400.0 259140.0 GPSTime(week=2108, tow=266400.0) 2108\n",
      "G21 2108 266400.0 259140.0 GPSTime(week=2108, tow=266400.0) 2108\n",
      "G22 2108 266400.0 259140.0 GPSTime(week=2108, tow=266400.0) 2108\n",
      "G26 2108 266400.0 259140.0 GPSTime(week=2108, tow=266400.0) 2108\n",
      "G27 2108 266400.0 259140.0 GPSTime(week=2108, tow=266400.0) 2108\n",
      "G30 2108 266400.0 259140.0 GPSTime(week=2108, tow=266400.0) 2108\n",
      "G31 2108 266400.0 259140.0 GPSTime(week=2108, tow=266400.0) 2108\n",
      "G04 2108 273584.0 266310.0 GPSTime(week=2108, tow=273584.0) 2108\n",
      "G16 2108 273584.0 266310.0 GPSTime(week=2108, tow=273584.0) 2108\n",
      "G01 2108 273600.0 266340.0 GPSTime(week=2108, tow=273600.0) 2108\n",
      "G03 2108 273600.0 266340.0 GPSTime(week=2108, tow=273600.0) 2108\n",
      "G07 2108 273600.0 266340.0 GPSTime(week=2108, tow=273600.0) 2108\n",
      "G08 2108 273600.0 266340.0 GPSTime(week=2108, tow=273600.0) 2108\n",
      "G09 2108 273600.0 266340.0 GPSTime(week=2108, tow=273600.0) 2108\n",
      "G11 2108 273600.0 266340.0 GPSTime(week=2108, tow=273600.0) 2108\n",
      "G17 2108 273600.0 266340.0 GPSTime(week=2108, tow=273600.0) 2108\n",
      "G22 2108 273600.0 266340.0 GPSTime(week=2108, tow=273600.0) 2108\n",
      "G27 2108 273600.0 266340.0 GPSTime(week=2108, tow=273600.0) 2108\n",
      "G30 2108 273600.0 266340.0 GPSTime(week=2108, tow=273600.0) 2108\n",
      "G14 2108 266400.0 259140.0 GPSTime(week=2108, tow=266400.0) 2108\n",
      "G21 2108 266400.0 259140.0 GPSTime(week=2108, tow=266400.0) 2108\n",
      "G26 2108 266400.0 259140.0 GPSTime(week=2108, tow=266400.0) 2108\n",
      "G31 2108 266400.0 259140.0 GPSTime(week=2108, tow=266400.0) 2108\n",
      "G03 2108 273584.0 266310.0 GPSTime(week=2108, tow=273584.0) 2108\n",
      "G04 2108 273584.0 266310.0 GPSTime(week=2108, tow=273584.0) 2108\n",
      "G16 2108 273584.0 266310.0 GPSTime(week=2108, tow=273584.0) 2108\n",
      "G01 2108 273600.0 266340.0 GPSTime(week=2108, tow=273600.0) 2108\n",
      "G03 2108 273600.0 266340.0 GPSTime(week=2108, tow=273600.0) 2108\n",
      "G07 2108 273600.0 266340.0 GPSTime(week=2108, tow=273600.0) 2108\n",
      "G08 2108 273600.0 266340.0 GPSTime(week=2108, tow=273600.0) 2108\n",
      "G09 2108 273600.0 266340.0 GPSTime(week=2108, tow=273600.0) 2108\n",
      "G11 2108 273600.0 266340.0 GPSTime(week=2108, tow=273600.0) 2108\n",
      "G17 2108 273600.0 266340.0 GPSTime(week=2108, tow=273600.0) 2108\n",
      "G19 2108 273600.0 266340.0 GPSTime(week=2108, tow=273600.0) 2108\n",
      "G22 2108 273600.0 266340.0 GPSTime(week=2108, tow=273600.0) 2108\n",
      "G27 2108 273600.0 266340.0 GPSTime(week=2108, tow=273600.0) 2108\n",
      "G28 2108 273600.0 266340.0 GPSTime(week=2108, tow=273600.0) 2108\n",
      "G30 2108 273600.0 266340.0 GPSTime(week=2108, tow=273600.0) 2108\n"
     ]
    }
   ],
   "source": [
    "b_nav_msg_list = gen_nav_bag_msg(nav_dat_b_c, timestamp_lambda=ephem_timestamp_lambda) + gen_nav_bag_msg(nav_dat_b_d, timestamp_lambda=ephem_timestamp_lambda)\n",
    "n_nav_msg_list = gen_nav_bag_msg(nav_dat_n_c, timestamp_lambda=ephem_timestamp_lambda) + gen_nav_bag_msg(nav_dat_n_d, timestamp_lambda=ephem_timestamp_lambda)\n",
    "l_nav_msg_list = gen_nav_bag_msg(nav_dat_l_c, timestamp_lambda=ephem_timestamp_lambda) + gen_nav_bag_msg(nav_dat_l_d, timestamp_lambda=ephem_timestamp_lambda)\n",
    "g_nav_msg_list = gen_nav_bag_msg(nav_dat_g_c, timestamp_lambda=ephem_timestamp_lambda) + gen_nav_bag_msg(nav_dat_g_d, timestamp_lambda=ephem_timestamp_lambda)"
   ]
  },
  {
   "cell_type": "code",
   "execution_count": 7,
   "metadata": {},
   "outputs": [
    {
     "name": "stdout",
     "output_type": "stream",
     "text": [
      "1591153306.0 -> 1591154410.0\n"
     ]
    }
   ],
   "source": [
    "bag_msg_list = obs_bag_msg_list + base_bag_msg_list\n",
    "bag_msg_list.sort(key=lambda x: x[0])\n",
    "print(\"{} -> {}\".format(bag_msg_list[0][0], bag_msg_list[-1][0]))"
   ]
  },
  {
   "cell_type": "code",
   "execution_count": 14,
   "metadata": {},
   "outputs": [],
   "source": [
    "all_nav_msg_list_tmp = b_nav_msg_list + n_nav_msg_list + l_nav_msg_list + g_nav_msg_list\n",
    "all_nav_msg_list = []\n",
    "for timestamp, bag_msg, topic_name in all_nav_msg_list_tmp:\n",
    "    # new_timestamp = timestamp - 7200\n",
    "    # if new_timestamp < bag_msg_list[0][0] - 5:\n",
    "    #     new_timestamp = bag_msg_list[0][0] - 5\n",
    "    # if new_timestamp > bag_msg_list[-1][0] + 5:\n",
    "    #     continue\n",
    "    all_nav_msg_list.append((bag_msg_list[0][0] - 5, bag_msg, topic_name))\n",
    "all_nav_msg_list_tmp = []"
   ]
  },
  {
   "cell_type": "code",
   "execution_count": 15,
   "metadata": {},
   "outputs": [],
   "source": [
    "import pandas as pd\n",
    "import numpy as np\n",
    "import pymap3d as pm\n",
    "gt_data = pd.read_csv(\"/persist/catkin_ws/src/GraphGNSSLib/global_fusion/dataset/gps_solution_TST2/groundTruth_TST.csv\", sep=\",\", header=None, names=[\"timestamp\", \"lat\", \"lon\", \"alt\"])\n"
   ]
  },
  {
   "cell_type": "code",
   "execution_count": 16,
   "metadata": {},
   "outputs": [],
   "source": [
    "gt_ecef = gt_data.apply(lambda x: pm.geodetic2ecef(x[\"lat\"], x[\"lon\"], x[\"alt\"]), axis=1)\n",
    "gt_data[\"ecef_x\"] = gt_ecef.apply(lambda x: x[0])\n",
    "gt_data[\"ecef_y\"] = gt_ecef.apply(lambda x: x[1])\n",
    "gt_data[\"ecef_z\"] = gt_ecef.apply(lambda x: x[2])\n",
    "gt_data.to_csv(\"/persist/catkin_ws/src/GraphGNSSLib/global_fusion/dataset/gps_solution_TST2/groundTruth_TST_ecef.csv\", index=False)"
   ]
  },
  {
   "cell_type": "code",
   "execution_count": 17,
   "metadata": {},
   "outputs": [],
   "source": [
    "from sensor_msgs.msg import NavSatFix\n",
    "import rospy\n",
    "gt_msgs = []\n",
    "for i in range(gt_data.shape[0]):\n",
    "    gt_msg = NavSatFix()\n",
    "    gt_msg.header.stamp = rospy.Time.from_sec(gt_data.iloc[i][\"timestamp\"])\n",
    "    gt_msg.header.frame_id = \"ground_truth\"\n",
    "    gt_msg.header.seq = i\n",
    "    gt_msg.latitude = gt_data.iloc[i][\"lat\"]\n",
    "    gt_msg.longitude = gt_data.iloc[i][\"lon\"]\n",
    "    gt_msg.altitude = gt_data.iloc[i][\"alt\"]\n",
    "    gt_msgs.append((gt_data.iloc[i][\"timestamp\"], gt_msg, '/groundtruth'))"
   ]
  },
  {
   "cell_type": "code",
   "execution_count": 18,
   "metadata": {},
   "outputs": [],
   "source": [
    "all_bag_msg_list = bag_msg_list + all_nav_msg_list + gt_msgs\n",
    "all_bag_msg_list.sort(key=lambda x: x[0])"
   ]
  },
  {
   "cell_type": "code",
   "execution_count": 19,
   "metadata": {},
   "outputs": [],
   "source": [
    "import rosbag\n",
    "import rospy\n",
    "import time\n",
    "import subprocess\n",
    "# try:\n",
    "#     roscore = subprocess.Popen('roscore')\n",
    "#     time.sleep(1)  # wait a bit to be sure the roscore is really launched\n",
    "# except:\n",
    "#     print(\"roscore is already running\")\n",
    "bag = rosbag.Bag('test.bag', 'w')\n",
    "iono_msg = StampedFloat64Array()\n",
    "iono_msg.data = nav_dat_n_c.attrs['ionospheric_corr_GPS']\n",
    "iono_msg.header.stamp = rospy.Time.from_sec(all_bag_msg_list[0][0])\n",
    "bag.write('/gnss/c/iono_gps', iono_msg, t=rospy.Time.from_sec(all_bag_msg_list[0][0]))\n",
    "iono_msg.data = nav_dat_b_c.attrs['ionospheric_corr_BDS']\n",
    "bag.write('/gnss/c/iono_bds', iono_msg, t=rospy.Time.from_sec(all_bag_msg_list[0][0]))\n",
    "iono_msg.data = nav_dat_l_c.attrs['ionospheric_corr_GAL']\n",
    "bag.write('/gnss/c/iono_gal', iono_msg, t=rospy.Time.from_sec(all_bag_msg_list[0][0]))\n",
    "iono_msg.data = nav_dat_n_d.attrs['ionospheric_corr_GPS']\n",
    "bag.write('/gnss/d/iono_gps', iono_msg, t=rospy.Time.from_sec(all_bag_msg_list[0][0]))\n",
    "iono_msg.data = nav_dat_b_d.attrs['ionospheric_corr_BDS']\n",
    "bag.write('/gnss/d/iono_bds', iono_msg, t=rospy.Time.from_sec(all_bag_msg_list[0][0]))\n",
    "iono_msg.data = nav_dat_l_d.attrs['ionospheric_corr_GAL']\n",
    "bag.write('/gnss/d/iono_gal', iono_msg, t=rospy.Time.from_sec(all_bag_msg_list[0][0]))\n",
    "for timestamp, bag_msg, topic_name in all_bag_msg_list:\n",
    "    # print(timestamp, bag_msg, topic_name)\n",
    "    bag.write(topic_name, bag_msg, t=rospy.Time.from_sec(timestamp))\n",
    "bag.close()"
   ]
  }
 ],
 "metadata": {
  "kernelspec": {
   "display_name": "Python 3.9.12",
   "language": "python",
   "name": "python3"
  },
  "language_info": {
   "codemirror_mode": {
    "name": "ipython",
    "version": 3
   },
   "file_extension": ".py",
   "mimetype": "text/x-python",
   "name": "python",
   "nbconvert_exporter": "python",
   "pygments_lexer": "ipython3",
   "version": "3.9.12"
  },
  "orig_nbformat": 4,
  "vscode": {
   "interpreter": {
    "hash": "0d2c699646e020880484ab5163b28ab914635883e77095b9f42c8b7cff3f1553"
   }
  }
 },
 "nbformat": 4,
 "nbformat_minor": 2
}
