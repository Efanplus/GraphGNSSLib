{
 "cells": [
  {
   "cell_type": "code",
   "execution_count": 1,
   "metadata": {},
   "outputs": [],
   "source": [
    "import sys\n",
    "sys.path.append(\"/persist/maplab_ws/src/ninebot_gio_coupling\")\n",
    "from gnsspylib.gps_time import GPSTime, gpst_to_utc, utc_to_gpst, adjweek, gen_gpstime_from_bds\n",
    "from gnsspylib.sat_no_prn_id import *\n",
    "from gnsspylib.gen_nav_msg import gen_nav_bag_msg\n",
    "from gnsspylib.gen_obs_msg import gen_bag_msg_list\n",
    "from ninebot_gio_coupling.msg import StampedFloat64Array"
   ]
  },
  {
   "cell_type": "code",
   "execution_count": 2,
   "metadata": {},
   "outputs": [],
   "source": [
    "import georinex as gr\n",
    "base_dat = gr.load(\"/persist/catkin_ws/src/GraphGNSSLib/global_fusion/dataset/gps_solution_TST/hksc1180.19o\")\n",
    "obs_dat = gr.load(\"/persist/catkin_ws/src/GraphGNSSLib/global_fusion/dataset/gps_solution_TST/COM3_190428_124409.obs\")\n",
    "nav_dat_n = gr.load(\"/persist/catkin_ws/src/GraphGNSSLib/global_fusion/dataset/gps_solution_TST/hksc1180.19n\")\n",
    "nav_dat_b = gr.load(\"/persist/catkin_ws/src/GraphGNSSLib/global_fusion/dataset/gps_solution_TST/hksc1180.19b\")"
   ]
  },
  {
   "cell_type": "code",
   "execution_count": 3,
   "metadata": {},
   "outputs": [
    {
     "name": "stdout",
     "output_type": "stream",
     "text": [
      "1556455473.996999 1556457233.000999\n"
     ]
    }
   ],
   "source": [
    "obs_bag_msg_list = gen_bag_msg_list(obs_dat, '/gnss/meas')\n",
    "print(obs_bag_msg_list[0][0], obs_bag_msg_list[-1][0])\n",
    "base_timestamp_lambda = lambda x : x > obs_bag_msg_list[0][0] - 60 and x < obs_bag_msg_list[-1][0] + 60\n",
    "# base_timestamp_lambda(1560089800)\n",
    "base_bag_msg_list = gen_bag_msg_list(base_dat, '/gnss/base/meas', timestamp_lambda=base_timestamp_lambda)"
   ]
  },
  {
   "cell_type": "code",
   "execution_count": 4,
   "metadata": {},
   "outputs": [],
   "source": [
    "ephem_timestamp_lambda = lambda x : x > obs_bag_msg_list[0][0] - 7300 and x < obs_bag_msg_list[-1][0] + 7300\n",
    "b_nav_msg_list = gen_nav_bag_msg(nav_dat_b, timestamp_lambda=ephem_timestamp_lambda)\n",
    "n_nav_msg_list = gen_nav_bag_msg(nav_dat_n, timestamp_lambda=ephem_timestamp_lambda)\n",
    "bag_msg_list = obs_bag_msg_list + base_bag_msg_list\n",
    "bag_msg_list.sort(key=lambda x: x[0])\n",
    "print(\"{} -> {}\".format(bag_msg_list[0][0], bag_msg_list[-1][0]))"
   ]
  },
  {
   "cell_type": "code",
   "execution_count": 6,
   "metadata": {},
   "outputs": [
    {
     "name": "stdout",
     "output_type": "stream",
     "text": [
      "69 27\n"
     ]
    }
   ],
   "source": [
    "print(len(b_nav_msg_list), len(n_nav_msg_list))"
   ]
  },
  {
   "cell_type": "code",
   "execution_count": 7,
   "metadata": {},
   "outputs": [],
   "source": [
    "all_nav_msg_list_tmp = b_nav_msg_list + n_nav_msg_list\n",
    "all_nav_msg_list = []\n",
    "i = 0\n",
    "for timestamp, bag_msg, topic_name in all_nav_msg_list_tmp:\n",
    "    # new_timestamp = timestamp - 7200\n",
    "    # if new_timestamp < bag_msg_list[0][0] - 5:\n",
    "    #     new_timestamp = bag_msg_list[0][0] - 5\n",
    "    # if new_timestamp > bag_msg_list[-1][0] + 5:\n",
    "    #     continue\n",
    "    all_nav_msg_list.append((bag_msg_list[0][0] - 6 + 0.01 * i, bag_msg, topic_name))\n",
    "    i = i + 1\n",
    "all_nav_msg_list_tmp = []"
   ]
  },
  {
   "cell_type": "code",
   "execution_count": 8,
   "metadata": {},
   "outputs": [],
   "source": [
    "import pandas as pd\n",
    "import numpy as np\n",
    "import pymap3d as pm\n",
    "\n",
    "gt_data = pd.read_csv(\"/persist/catkin_ws/src/GraphGNSSLib/global_fusion/dataset/gps_solution_TST/groundTruth_TST.csv\", sep=\",\", header=None, names=[\"week\", \"tow\", \"lat\", \"lon\", \"alt\"])\n",
    "gt_data[\"timestamp\"] = gt_data.apply(lambda x: GPSTime(x[\"week\"], x[\"tow\"]).as_datetime().timestamp(), axis=1)\n",
    "gt_data = gt_data.drop([\"week\", \"tow\"], axis=1)\n",
    "gt_ecef = gt_data.apply(lambda x: pm.geodetic2ecef(x[\"lat\"], x[\"lon\"], x[\"alt\"]), axis=1)\n",
    "gt_data[\"ecef_x\"] = gt_ecef.apply(lambda x: x[0])\n",
    "gt_data[\"ecef_y\"] = gt_ecef.apply(lambda x: x[1])\n",
    "gt_data[\"ecef_z\"] = gt_ecef.apply(lambda x: x[2])\n",
    "gt_data.to_csv(\"/persist/catkin_ws/src/GraphGNSSLib/global_fusion/dataset/gps_solution_TST/groundTruth_TST_ecef.csv\", index=False)"
   ]
  },
  {
   "cell_type": "code",
   "execution_count": 9,
   "metadata": {},
   "outputs": [],
   "source": [
    "from sensor_msgs.msg import NavSatFix\n",
    "import rospy\n",
    "gt_msgs = []\n",
    "for i in range(gt_data.shape[0]):\n",
    "    gt_msg = NavSatFix()\n",
    "    gt_msg.header.stamp = rospy.Time.from_sec(gt_data.iloc[i][\"timestamp\"])\n",
    "    gt_msg.header.frame_id = \"ground_truth\"\n",
    "    gt_msg.header.seq = i\n",
    "    gt_msg.latitude = gt_data.iloc[i][\"lat\"]\n",
    "    gt_msg.longitude = gt_data.iloc[i][\"lon\"]\n",
    "    gt_msg.altitude = gt_data.iloc[i][\"alt\"]\n",
    "    gt_msgs.append((gt_data.iloc[i][\"timestamp\"], gt_msg, '/groundtruth'))"
   ]
  },
  {
   "cell_type": "code",
   "execution_count": 10,
   "metadata": {},
   "outputs": [],
   "source": [
    "all_bag_msg_list = bag_msg_list + all_nav_msg_list + gt_msgs\n",
    "all_bag_msg_list.sort(key=lambda x: x[0])"
   ]
  },
  {
   "cell_type": "code",
   "execution_count": 11,
   "metadata": {},
   "outputs": [
    {
     "name": "stderr",
     "output_type": "stream",
     "text": [
      "WARNING:rosout:Failed to load Python extension for LZ4 support. LZ4 compression will not be available.\n"
     ]
    }
   ],
   "source": [
    "import rosbag\n",
    "import rospy\n",
    "import time\n",
    "import subprocess\n",
    "# try:\n",
    "#     roscore = subprocess.Popen('roscore')\n",
    "#     time.sleep(1)  # wait a bit to be sure the roscore is really launched\n",
    "# except:\n",
    "#     print(\"roscore is already running\")\n",
    "bag = rosbag.Bag('test.bag', 'w')\n",
    "iono_msg = StampedFloat64Array()\n",
    "iono_msg.data = nav_dat_n.attrs['ionospheric_corr_GPS']\n",
    "iono_msg.header.stamp = rospy.Time.from_sec(all_bag_msg_list[0][0])\n",
    "bag.write('/gnss/iono_gps', iono_msg, t=rospy.Time.from_sec(all_bag_msg_list[0][0]))\n",
    "iono_msg.data = nav_dat_b.attrs['ionospheric_corr_BDS']\n",
    "iono_msg.header.stamp = rospy.Time.from_sec(all_bag_msg_list[0][0])\n",
    "bag.write('/gnss/iono_bds', iono_msg, t=rospy.Time.from_sec(all_bag_msg_list[0][0]))\n",
    "for timestamp, bag_msg, topic_name in all_bag_msg_list:\n",
    "    # print(timestamp, bag_msg, topic_name)\n",
    "    bag.write(topic_name, bag_msg, t=rospy.Time.from_sec(timestamp))\n",
    "bag.close()"
   ]
  }
 ],
 "metadata": {
  "kernelspec": {
   "display_name": "Python 3.9.12",
   "language": "python",
   "name": "python3"
  },
  "language_info": {
   "codemirror_mode": {
    "name": "ipython",
    "version": 3
   },
   "file_extension": ".py",
   "mimetype": "text/x-python",
   "name": "python",
   "nbconvert_exporter": "python",
   "pygments_lexer": "ipython3",
   "version": "3.9.12"
  },
  "orig_nbformat": 4,
  "vscode": {
   "interpreter": {
    "hash": "0d2c699646e020880484ab5163b28ab914635883e77095b9f42c8b7cff3f1553"
   }
  }
 },
 "nbformat": 4,
 "nbformat_minor": 2
}
