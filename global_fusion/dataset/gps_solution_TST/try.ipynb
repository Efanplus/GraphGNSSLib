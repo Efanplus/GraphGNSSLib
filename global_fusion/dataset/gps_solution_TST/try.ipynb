{
 "cells": [
  {
   "cell_type": "code",
   "execution_count": 1,
   "metadata": {},
   "outputs": [],
   "source": [
    "# %%\n",
    "from enum import IntEnum\n",
    "from pickle import TRUE\n",
    "from typing import Dict\n",
    "from tqdm.auto import tqdm\n",
    "import numpy as np\n",
    "\n",
    "class ConstellationId(IntEnum):\n",
    "  # Int values match Ublox gnssid version 8\n",
    "  GPS = 0\n",
    "  SBAS = 1\n",
    "  GALILEO = 2\n",
    "  BEIDOU = 3\n",
    "  IMES = 4\n",
    "  QZNSS = 5\n",
    "  GLONASS = 6\n",
    "  # Not supported by Ublox:\n",
    "  IRNSS = 7\n",
    "\n",
    "  def to_rinex_char(self) -> str:\n",
    "    # returns single character id\n",
    "    return RINEX_CONSTELLATION_TO_ID[self]\n",
    "\n",
    "  @classmethod\n",
    "  def from_rinex_char(cls, c: str):\n",
    "    if c in RINEX_ID_TO_CONSTELLATION:\n",
    "      return RINEX_ID_TO_CONSTELLATION[c]\n",
    "    else:\n",
    "      return None\n",
    "\n",
    "  @classmethod\n",
    "  def from_qcom_source(cls, report_source: int):\n",
    "    if report_source == 0:\n",
    "      return ConstellationId.GPS\n",
    "    if report_source == 6:\n",
    "      return ConstellationId.SBAS\n",
    "    elif report_source == 1:\n",
    "      return ConstellationId.GLONASS\n",
    "    raise NotImplementedError('Only GPS (0), SBAS (1) and GLONASS (6) are supported from qcom, not:', {report_source})\n",
    "CONSTELLATION_TO_NMEA_RANGES = {\n",
    "  # NmeaId ranges for each constellation with its svId offset.\n",
    "  # constellation: [(start, end, svIdOffset)]\n",
    "  # svId = nmeaId + offset\n",
    "  ConstellationId.GPS: [(1, 32, 0)],  # svId [1,32]\n",
    "  ConstellationId.GLONASS: [(33, 59, -32)],  # svId [1,31]\n",
    "  ConstellationId.GALILEO: [(60, 97, -59)],  # svId 1-36\n",
    "  ConstellationId.BEIDOU: [(98, 160, -97)],  # svId 1-72\n",
    "  ConstellationId.SBAS: [(161, 231, -160)],  # svId [1,71]\n",
    "  ConstellationId.IMES: [(232, 240, -231)],  # svId [1,9]\n",
    "  ConstellationId.QZNSS: [(241, 268, -240)],  # svId [1,28]  # todo should be QZSS\n",
    "}\n",
    "RINEX_CONSTELLATION_TO_ID: Dict[ConstellationId, str] = {\n",
    "  ConstellationId.GPS: 'G',\n",
    "  ConstellationId.GLONASS: 'R',\n",
    "  ConstellationId.SBAS: 'S',\n",
    "  ConstellationId.GALILEO: 'E',\n",
    "  ConstellationId.BEIDOU: 'C',\n",
    "  ConstellationId.QZNSS: 'J',\n",
    "  ConstellationId.IRNSS: 'I'\n",
    "}\n",
    "L1_FREQ: Dict[ConstellationId, float] = {\n",
    "  ConstellationId.GPS: 1.57542 * 1e9,\n",
    "  ConstellationId.GLONASS: 1.60200 * 1e9 + 0.5625 * 1e6,\n",
    "  ConstellationId.SBAS: 1.57542 * 1e9,\n",
    "  ConstellationId.GALILEO: 1.57542 * 1e9,\n",
    "  ConstellationId.BEIDOU: 1.561098 * 1e9,\n",
    "  ConstellationId.QZNSS: 1.57542 * 1e9,\n",
    "  ConstellationId.IRNSS: 1.57542 * 1e9\n",
    "}\n",
    "RINEX_ID_TO_CONSTELLATION: Dict[str, ConstellationId] = {id: con for con, id in RINEX_CONSTELLATION_TO_ID.items()}\n",
    "def get_constellation(prn: str):\n",
    "  identifier = prn[0]\n",
    "  constellation = ConstellationId.from_rinex_char(identifier)\n",
    "  if constellation is not None:\n",
    "    return constellation.name\n",
    "  return None\n",
    "def get_nmea_id_from_prn(prn: str):\n",
    "  constellation = get_constellation(prn)\n",
    "  if constellation is None:\n",
    "    raise ValueError(f\"Constellation not found for prn {prn}\")\n",
    "\n",
    "  sv_id = int(prn[1:])  # satellite id\n",
    "  return get_nmea_id_from_constellation_and_svid(ConstellationId[constellation], sv_id)\n",
    "\n",
    "def get_nmea_id_from_constellation_and_svid(constellation: ConstellationId, sv_id: int):\n",
    "  ranges = CONSTELLATION_TO_NMEA_RANGES[constellation]\n",
    "  for (start, end, sv_id_offset) in ranges:\n",
    "    new_nmea_id = sv_id - sv_id_offset\n",
    "    if start <= new_nmea_id <= end:\n",
    "      return new_nmea_id\n",
    "\n",
    "  raise ValueError(f\"NMEA ID not found for constellation {constellation.name} with satellite id {sv_id}\")\n",
    "\n"
   ]
  },
  {
   "cell_type": "code",
   "execution_count": 2,
   "metadata": {},
   "outputs": [],
   "source": [
    "import georinex as gr\n",
    "base_dat = gr.load(\"/persist/catkin_ws/src/GraphGNSSLib/global_fusion/dataset/gps_solution_TST/hksc1180.19o\")"
   ]
  },
  {
   "cell_type": "code",
   "execution_count": 3,
   "metadata": {},
   "outputs": [],
   "source": [
    "obs_dat = gr.load(\"/persist/catkin_ws/src/GraphGNSSLib/global_fusion/dataset/gps_solution_TST/COM3_190428_124409.obs\")"
   ]
  },
  {
   "cell_type": "code",
   "execution_count": 4,
   "metadata": {},
   "outputs": [
    {
     "name": "stdout",
     "output_type": "stream",
     "text": [
      "<xarray.DataArray 'sv' (sv: 25)>\n",
      "array(['C01', 'C02', 'C03', 'C04', 'C05', 'C06', 'C07', 'C08', 'C09', 'C10',\n",
      "       'C11', 'C13', 'C14', 'C16', 'C23', 'C28', 'G02', 'G04', 'G05', 'G06',\n",
      "       'G09', 'G12', 'G17', 'G19', 'G25'], dtype='<U3')\n",
      "Coordinates:\n",
      "  * sv       (sv) <U3 'C01' 'C02' 'C03' 'C04' 'C05' ... 'G12' 'G17' 'G19' 'G25'\n",
      "1760\n",
      "<xarray.DataArray 'time' (time: 1760)>\n",
      "array(['2019-04-28T12:44:33.996999000', '2019-04-28T12:44:34.996999000',\n",
      "       '2019-04-28T12:44:35.996999000', ..., '2019-04-28T13:13:51.000999000',\n",
      "       '2019-04-28T13:13:52.000999000', '2019-04-28T13:13:53.000999000'],\n",
      "      dtype='datetime64[ns]')\n",
      "Coordinates:\n",
      "  * time     (time) datetime64[ns] 2019-04-28T12:44:33.996999 ... 2019-04-28T...\n"
     ]
    }
   ],
   "source": [
    "# print(dat.coords)\n",
    "print(obs_dat.coords['sv'])\n",
    "print(len(obs_dat.coords['time']))\n",
    "print(obs_dat.coords['time'])"
   ]
  },
  {
   "cell_type": "code",
   "execution_count": 5,
   "metadata": {},
   "outputs": [],
   "source": [
    "nav_dat_n = gr.load(\"/persist/catkin_ws/src/GraphGNSSLib/global_fusion/dataset/gps_solution_TST/hksc1180.19n\")"
   ]
  },
  {
   "cell_type": "code",
   "execution_count": 6,
   "metadata": {},
   "outputs": [],
   "source": [
    "nav_dat_b = gr.load(\"/persist/catkin_ws/src/GraphGNSSLib/global_fusion/dataset/gps_solution_TST/hksc1180.19b\")"
   ]
  },
  {
   "cell_type": "code",
   "execution_count": 7,
   "metadata": {},
   "outputs": [
    {
     "name": "stdout",
     "output_type": "stream",
     "text": [
      "Coordinates:\n",
      "  * sv       (sv) <U5 'C01' 'C02' 'C03' 'C04' 'C05' ... 'C27' 'C28' 'C29' 'C30'\n",
      "  * time     (time) datetime64[ns] 2019-04-19T01:00:00 ... 2019-04-28T23:00:00\n",
      "<xarray.DataArray 'sv' (sv: 29)>\n",
      "array(['C01', 'C02', 'C03', 'C04', 'C05', 'C05_1', 'C06', 'C07', 'C08', 'C09',\n",
      "       'C10', 'C11', 'C12', 'C13', 'C14', 'C16', 'C18', 'C19', 'C20', 'C21',\n",
      "       'C22', 'C23', 'C24', 'C25', 'C26', 'C27', 'C28', 'C29', 'C30'],\n",
      "      dtype='<U5')\n",
      "Coordinates:\n",
      "  * sv       (sv) <U5 'C01' 'C02' 'C03' 'C04' 'C05' ... 'C27' 'C28' 'C29' 'C30'\n",
      "<xarray.DataArray 'time' (time: 40)>\n",
      "array(['2019-04-19T01:00:00.000000000', '2019-04-25T17:00:00.000000000',\n",
      "       '2019-04-26T09:00:00.000000000', '2019-04-26T17:00:00.000000000',\n",
      "       '2019-04-27T00:00:00.000000000', '2019-04-27T02:00:00.000000000',\n",
      "       '2019-04-27T05:00:00.000000000', '2019-04-27T06:00:00.000000000',\n",
      "       '2019-04-27T07:00:00.000000000', '2019-04-27T09:00:00.000000000',\n",
      "       '2019-04-27T11:00:00.000000000', '2019-04-27T15:00:00.000000000',\n",
      "       '2019-04-27T17:00:00.000000000', '2019-04-27T21:00:00.000000000',\n",
      "       '2019-04-27T22:00:00.000000000', '2019-04-27T23:00:00.000000000',\n",
      "       '2019-04-28T00:00:00.000000000', '2019-04-28T01:00:00.000000000',\n",
      "       '2019-04-28T02:00:00.000000000', '2019-04-28T03:00:00.000000000',\n",
      "       '2019-04-28T04:00:00.000000000', '2019-04-28T05:00:00.000000000',\n",
      "       '2019-04-28T06:00:00.000000000', '2019-04-28T07:00:00.000000000',\n",
      "       '2019-04-28T08:00:00.000000000', '2019-04-28T09:00:00.000000000',\n",
      "       '2019-04-28T10:00:00.000000000', '2019-04-28T11:00:00.000000000',\n",
      "       '2019-04-28T12:00:00.000000000', '2019-04-28T13:00:00.000000000',\n",
      "       '2019-04-28T14:00:00.000000000', '2019-04-28T15:00:00.000000000',\n",
      "       '2019-04-28T16:00:00.000000000', '2019-04-28T17:00:00.000000000',\n",
      "       '2019-04-28T18:00:00.000000000', '2019-04-28T19:00:00.000000000',\n",
      "       '2019-04-28T20:00:00.000000000', '2019-04-28T21:00:00.000000000',\n",
      "       '2019-04-28T22:00:00.000000000', '2019-04-28T23:00:00.000000000'],\n",
      "      dtype='datetime64[ns]')\n",
      "Coordinates:\n",
      "  * time     (time) datetime64[ns] 2019-04-19T01:00:00 ... 2019-04-28T23:00:00\n"
     ]
    }
   ],
   "source": [
    "print(nav_dat_b.coords)\n",
    "print(nav_dat_b.coords['sv'])\n",
    "print(nav_dat_b.coords['time'])"
   ]
  },
  {
   "cell_type": "code",
   "execution_count": 8,
   "metadata": {},
   "outputs": [
    {
     "name": "stdout",
     "output_type": "stream",
     "text": [
      "<xarray.Dataset>\n",
      "Dimensions:           (sv: 29, time: 40)\n",
      "Coordinates:\n",
      "  * sv                (sv) <U5 'C01' 'C02' 'C03' 'C04' ... 'C28' 'C29' 'C30'\n",
      "  * time              (time) datetime64[ns] 2019-04-19T01:00:00 ... 2019-04-2...\n",
      "Data variables: (12/27)\n",
      "    SVclockBias       (time, sv) float64 nan nan nan nan nan ... nan nan nan nan\n",
      "    SVclockDrift      (time, sv) float64 nan nan nan nan nan ... nan nan nan nan\n",
      "    SVclockDriftRate  (time, sv) float64 nan nan nan nan nan ... nan nan nan nan\n",
      "    AODE              (time, sv) float64 nan nan nan nan nan ... nan nan nan nan\n",
      "    Crs               (time, sv) float64 nan nan nan nan nan ... nan nan nan nan\n",
      "    DeltaN            (time, sv) float64 nan nan nan nan nan ... nan nan nan nan\n",
      "    ...                ...\n",
      "    SVacc             (time, sv) float64 nan nan nan nan nan ... nan nan nan nan\n",
      "    SatH1             (time, sv) float64 nan nan nan nan nan ... nan nan nan nan\n",
      "    TGD1              (time, sv) float64 nan nan nan nan nan ... nan nan nan nan\n",
      "    TGD2              (time, sv) float64 nan nan nan nan nan ... nan nan nan nan\n",
      "    TransTime         (time, sv) float64 nan nan nan nan nan ... nan nan nan nan\n",
      "    AODC              (time, sv) float64 nan nan nan nan nan ... nan nan nan nan\n",
      "Attributes:\n",
      "    ionospheric_corr_BDS:  [ 9.3132e-09  8.9407e-08 -1.0133e-06  2.0862e-06  ...\n",
      "    version:               3.02\n",
      "    svtype:                ['C']\n",
      "    rinextype:             nav\n",
      "    filename:              hksc1180.19b\n"
     ]
    }
   ],
   "source": [
    "print(nav_dat_b)"
   ]
  },
  {
   "cell_type": "code",
   "execution_count": 9,
   "metadata": {},
   "outputs": [
    {
     "name": "stdout",
     "output_type": "stream",
     "text": [
      "<xarray.Dataset>\n",
      "Dimensions:           (time: 35, sv: 31)\n",
      "Coordinates:\n",
      "  * time              (time) datetime64[ns] 2019-04-27T08:00:00 ... 2019-04-29\n",
      "  * sv                (sv) <U3 'G01' 'G02' 'G03' 'G05' ... 'G30' 'G31' 'G32'\n",
      "Data variables: (12/28)\n",
      "    SVclockBias       (time, sv) float64 nan nan nan nan ... nan nan -0.0001112\n",
      "    SVclockDrift      (time, sv) float64 nan nan nan nan ... nan nan 1.728e-11\n",
      "    SVclockDriftRate  (time, sv) float64 nan nan nan nan nan ... 0.0 nan nan 0.0\n",
      "    IODE              (time, sv) float64 nan nan nan nan ... 72.0 nan nan 74.0\n",
      "    Crs               (time, sv) float64 nan nan nan nan ... 47.53 nan nan 17.59\n",
      "    DeltaN            (time, sv) float64 nan nan nan nan ... nan nan 4.471e-09\n",
      "    ...                ...\n",
      "    L2Pflag           (time, sv) float64 nan nan nan nan nan ... 0.0 nan nan 0.0\n",
      "    SVacc             (time, sv) float64 nan nan nan nan nan ... 2.0 nan nan 2.0\n",
      "    health            (time, sv) float64 nan nan nan nan nan ... 0.0 nan nan 0.0\n",
      "    TGD               (time, sv) float64 nan nan nan nan ... nan nan 4.657e-10\n",
      "    IODC              (time, sv) float64 nan nan nan nan ... 72.0 nan nan 74.0\n",
      "    TransTime         (time, sv) float64 nan nan nan nan ... nan nan 7.914e+04\n",
      "Attributes:\n",
      "    ionospheric_corr_GPS:  [ 9.3132e-09  1.4901e-08 -5.9605e-08 -1.1921e-07  ...\n",
      "    version:               3.02\n",
      "    svtype:                ['G']\n",
      "    rinextype:             nav\n",
      "    filename:              hksc1180.19n\n"
     ]
    }
   ],
   "source": [
    "print(nav_dat_n)"
   ]
  },
  {
   "cell_type": "code",
   "execution_count": 10,
   "metadata": {},
   "outputs": [
    {
     "name": "stdout",
     "output_type": "stream",
     "text": [
      "Coordinates:\n",
      "  * time     (time) datetime64[ns] 2019-04-27T08:00:00 ... 2019-04-29\n",
      "  * sv       (sv) <U3 'G01' 'G02' 'G03' 'G05' 'G06' ... 'G29' 'G30' 'G31' 'G32'\n",
      "<xarray.DataArray 'sv' (sv: 31)>\n",
      "array(['G01', 'G02', 'G03', 'G05', 'G06', 'G07', 'G08', 'G09', 'G10', 'G11',\n",
      "       'G12', 'G13', 'G14', 'G15', 'G16', 'G17', 'G18', 'G19', 'G20', 'G21',\n",
      "       'G22', 'G23', 'G24', 'G25', 'G26', 'G27', 'G28', 'G29', 'G30', 'G31',\n",
      "       'G32'], dtype='<U3')\n",
      "Coordinates:\n",
      "  * sv       (sv) <U3 'G01' 'G02' 'G03' 'G05' 'G06' ... 'G29' 'G30' 'G31' 'G32'\n",
      "<xarray.DataArray 'time' (time: 35)>\n",
      "array(['2019-04-27T08:00:00.000000000', '2019-04-27T10:00:00.000000000',\n",
      "       '2019-04-27T12:00:00.000000000', '2019-04-27T13:59:44.000000000',\n",
      "       '2019-04-27T14:00:00.000000000', '2019-04-27T16:00:00.000000000',\n",
      "       '2019-04-27T18:00:00.000000000', '2019-04-27T19:59:44.000000000',\n",
      "       '2019-04-27T20:00:00.000000000', '2019-04-27T22:00:00.000000000',\n",
      "       '2019-04-27T23:59:44.000000000', '2019-04-28T00:00:00.000000000',\n",
      "       '2019-04-28T01:59:44.000000000', '2019-04-28T02:00:00.000000000',\n",
      "       '2019-04-28T03:59:44.000000000', '2019-04-28T04:00:00.000000000',\n",
      "       '2019-04-28T05:59:44.000000000', '2019-04-28T06:00:00.000000000',\n",
      "       '2019-04-28T07:59:44.000000000', '2019-04-28T08:00:00.000000000',\n",
      "       '2019-04-28T09:59:44.000000000', '2019-04-28T10:00:00.000000000',\n",
      "       '2019-04-28T11:59:44.000000000', '2019-04-28T12:00:00.000000000',\n",
      "       '2019-04-28T14:00:00.000000000', '2019-04-28T15:59:44.000000000',\n",
      "       '2019-04-28T16:00:00.000000000', '2019-04-28T17:59:44.000000000',\n",
      "       '2019-04-28T18:00:00.000000000', '2019-04-28T19:59:44.000000000',\n",
      "       '2019-04-28T20:00:00.000000000', '2019-04-28T21:59:44.000000000',\n",
      "       '2019-04-28T22:00:00.000000000', '2019-04-28T23:59:44.000000000',\n",
      "       '2019-04-29T00:00:00.000000000'], dtype='datetime64[ns]')\n",
      "Coordinates:\n",
      "  * time     (time) datetime64[ns] 2019-04-27T08:00:00 ... 2019-04-29\n"
     ]
    }
   ],
   "source": [
    "print(nav_dat_n.coords)\n",
    "print(nav_dat_n.coords['sv'])\n",
    "print(nav_dat_n.coords['time'])"
   ]
  },
  {
   "cell_type": "code",
   "execution_count": 11,
   "metadata": {},
   "outputs": [],
   "source": [
    "Freq = {\n",
    "    'G1': 1.57542e9,\n",
    "    'G2': 1.22760e9,\n",
    "    'G5': 1.17645e9, \n",
    "    'R1': 1.602e9 + 0.5625e6,\n",
    "    'R2': 1.246e9 - 0.4375e6,\n",
    "    'R3': 1.202025e9,\n",
    "    'E1': 1.57542e9,\n",
    "    'E2': 1.22760e9,\n",
    "    'E5': 1.17645e9, \n",
    "    'C1': 1.561098e9,\n",
    "    'C2': 1.20714e9,\n",
    "    'C5': 1.26852e9,\n",
    "    'C7': 1.20714e9,\n",
    "    'S1': 1.57542e9,\n",
    "    'S5': 1.17645e9,\n",
    "}"
   ]
  },
  {
   "cell_type": "code",
   "execution_count": 12,
   "metadata": {},
   "outputs": [],
   "source": [
    "import numpy as np\n",
    "def datetime64totimestamp(date64):\n",
    "    return float((date64 - np.datetime64('1970-01-01T00:00:00Z')) / np.timedelta64(1, 's'))"
   ]
  },
  {
   "cell_type": "code",
   "execution_count": 13,
   "metadata": {},
   "outputs": [
    {
     "name": "stdout",
     "output_type": "stream",
     "text": [
      "<xarray.DataArray 'time' (time: 40)>\n",
      "array(['2019-04-19T01:00:00.000000000', '2019-04-25T17:00:00.000000000',\n",
      "       '2019-04-26T09:00:00.000000000', '2019-04-26T17:00:00.000000000',\n",
      "       '2019-04-27T00:00:00.000000000', '2019-04-27T02:00:00.000000000',\n",
      "       '2019-04-27T05:00:00.000000000', '2019-04-27T06:00:00.000000000',\n",
      "       '2019-04-27T07:00:00.000000000', '2019-04-27T09:00:00.000000000',\n",
      "       '2019-04-27T11:00:00.000000000', '2019-04-27T15:00:00.000000000',\n",
      "       '2019-04-27T17:00:00.000000000', '2019-04-27T21:00:00.000000000',\n",
      "       '2019-04-27T22:00:00.000000000', '2019-04-27T23:00:00.000000000',\n",
      "       '2019-04-28T00:00:00.000000000', '2019-04-28T01:00:00.000000000',\n",
      "       '2019-04-28T02:00:00.000000000', '2019-04-28T03:00:00.000000000',\n",
      "       '2019-04-28T04:00:00.000000000', '2019-04-28T05:00:00.000000000',\n",
      "       '2019-04-28T06:00:00.000000000', '2019-04-28T07:00:00.000000000',\n",
      "       '2019-04-28T08:00:00.000000000', '2019-04-28T09:00:00.000000000',\n",
      "       '2019-04-28T10:00:00.000000000', '2019-04-28T11:00:00.000000000',\n",
      "       '2019-04-28T12:00:00.000000000', '2019-04-28T13:00:00.000000000',\n",
      "       '2019-04-28T14:00:00.000000000', '2019-04-28T15:00:00.000000000',\n",
      "       '2019-04-28T16:00:00.000000000', '2019-04-28T17:00:00.000000000',\n",
      "       '2019-04-28T18:00:00.000000000', '2019-04-28T19:00:00.000000000',\n",
      "       '2019-04-28T20:00:00.000000000', '2019-04-28T21:00:00.000000000',\n",
      "       '2019-04-28T22:00:00.000000000', '2019-04-28T23:00:00.000000000'],\n",
      "      dtype='datetime64[ns]')\n",
      "Coordinates:\n",
      "  * time     (time) datetime64[ns] 2019-04-19T01:00:00 ... 2019-04-28T23:00:00\n",
      "1555635600.0\n",
      "<xarray.DataArray 'time' (time: 35)>\n",
      "array(['2019-04-27T08:00:00.000000000', '2019-04-27T10:00:00.000000000',\n",
      "       '2019-04-27T12:00:00.000000000', '2019-04-27T13:59:44.000000000',\n",
      "       '2019-04-27T14:00:00.000000000', '2019-04-27T16:00:00.000000000',\n",
      "       '2019-04-27T18:00:00.000000000', '2019-04-27T19:59:44.000000000',\n",
      "       '2019-04-27T20:00:00.000000000', '2019-04-27T22:00:00.000000000',\n",
      "       '2019-04-27T23:59:44.000000000', '2019-04-28T00:00:00.000000000',\n",
      "       '2019-04-28T01:59:44.000000000', '2019-04-28T02:00:00.000000000',\n",
      "       '2019-04-28T03:59:44.000000000', '2019-04-28T04:00:00.000000000',\n",
      "       '2019-04-28T05:59:44.000000000', '2019-04-28T06:00:00.000000000',\n",
      "       '2019-04-28T07:59:44.000000000', '2019-04-28T08:00:00.000000000',\n",
      "       '2019-04-28T09:59:44.000000000', '2019-04-28T10:00:00.000000000',\n",
      "       '2019-04-28T11:59:44.000000000', '2019-04-28T12:00:00.000000000',\n",
      "       '2019-04-28T14:00:00.000000000', '2019-04-28T15:59:44.000000000',\n",
      "       '2019-04-28T16:00:00.000000000', '2019-04-28T17:59:44.000000000',\n",
      "       '2019-04-28T18:00:00.000000000', '2019-04-28T19:59:44.000000000',\n",
      "       '2019-04-28T20:00:00.000000000', '2019-04-28T21:59:44.000000000',\n",
      "       '2019-04-28T22:00:00.000000000', '2019-04-28T23:59:44.000000000',\n",
      "       '2019-04-29T00:00:00.000000000'], dtype='datetime64[ns]')\n",
      "Coordinates:\n",
      "  * time     (time) datetime64[ns] 2019-04-27T08:00:00 ... 2019-04-29\n",
      "1556352000.0\n"
     ]
    },
    {
     "name": "stderr",
     "output_type": "stream",
     "text": [
      "/tmp/ipykernel_16578/3658927575.py:3: DeprecationWarning: parsing timezone aware datetimes is deprecated; this will raise an error in the future\n",
      "  return float((date64 - np.datetime64('1970-01-01T00:00:00Z')) / np.timedelta64(1, 's'))\n"
     ]
    }
   ],
   "source": [
    "from datetime import datetime\n",
    "print(nav_dat_b.coords['time'])\n",
    "print(datetime64totimestamp(nav_dat_b.coords['time'][0].values))\n",
    "print(nav_dat_n.coords['time'])\n",
    "print(datetime64totimestamp(nav_dat_n.coords['time'][0].values))"
   ]
  },
  {
   "cell_type": "code",
   "execution_count": 14,
   "metadata": {},
   "outputs": [],
   "source": [
    "code_map = {'I': 1, 'D': 2, 'C': 4, 'Q': 8}"
   ]
  },
  {
   "cell_type": "code",
   "execution_count": 15,
   "metadata": {},
   "outputs": [
    {
     "name": "stderr",
     "output_type": "stream",
     "text": [
      "WARNING:rosout:Failed to load Python extension for LZ4 support. LZ4 compression will not be available.\n"
     ]
    }
   ],
   "source": [
    "import numpy as np\n",
    "import os\n",
    "\n",
    "from pytz import utc\n",
    "\n",
    "from sensor_msgs.msg import Imu, NavSatFix, Image\n",
    "from geometry_msgs.msg import PointStamped, PoseStamped\n",
    "from ninebot_gio_coupling.msg import (\n",
    "    GnssEphemMsg, \n",
    "    GnssGloEphemMsg, \n",
    "    GnssMeasMsg, \n",
    "    GnssObsMsg, \n",
    "    GnssTimeMsg, \n",
    "    StampedFloat64Array, \n",
    "    GnssPolyEphemMsg, \n",
    "    GnssPVMsg,\n",
    ")\n",
    "from nav_msgs.msg import Odometry\n",
    "import sys\n",
    "sys.path.append('/persist/source_data1/wangyf/dataset/GNSS/Code/laika')\n",
    "from laika.gps_time import GPSTime, gpst_to_utc, utc_to_gpst, adjweek\n",
    "import rosbag\n",
    "import rospy\n",
    "import joblib\n",
    "import time\n",
    "import subprocess\n",
    "import tqdm\n",
    "from datetime import datetime, timezone\n",
    "# rospy.init_node('write_bag')\n",
    "# set_code = set()\n",
    "# bag_msg_list = []\n",
    "\n",
    "# print(set_code)\n",
    "    "
   ]
  },
  {
   "cell_type": "code",
   "execution_count": 37,
   "metadata": {},
   "outputs": [],
   "source": [
    "def gen_obs_bag_msg(dat, topic_name, timestamp_lambda=None):\n",
    "    obs_bag_msg_list = []\n",
    "    time_array = dat.coords['time']\n",
    "    for index in range(len(time_array)):\n",
    "        time_date64 = time_array[index]\n",
    "        gnss_meas_msg = GnssMeasMsg()\n",
    "        timestamp = datetime64totimestamp(time_date64.values)\n",
    "        time_date = datetime.fromtimestamp(timestamp, timezone.utc)\n",
    "        # print(time_date)\n",
    "        gps_time_o = GPSTime.from_datetime(time_date)\n",
    "        gps_time = utc_to_gpst(gps_time_o)\n",
    "        timestamp = gps_time.as_datetime().timestamp()\n",
    "        if timestamp_lambda is not None and not timestamp_lambda(timestamp):\n",
    "            # if timestamp_lambda is not None:\n",
    "            #     print(\"time_date64: {} timestamp {}\".format(time_date64.values, timestamp))\n",
    "            continue\n",
    "        new_dataset = dat.isel(time=index)\n",
    "        sv_array = new_dataset.coords['sv']\n",
    "        for j in range(len(sv_array)):\n",
    "            sv = sv_array[j].values\n",
    "            data = new_dataset.isel(sv=j)\n",
    "            # print(len(data.data_vars))\n",
    "            obs_msg = GnssObsMsg()\n",
    "            obs_msg.time.week = gps_time.week\n",
    "            obs_msg.time.tow = gps_time.tow\n",
    "            obs_msg.sat = get_nmea_id_from_prn(str(sv))\n",
    "            freq_index = -1\n",
    "            for ele in sorted(data.data_vars, key=lambda x: x[1:3], reverse=True):\n",
    "                # set_code.add(ele[2])\n",
    "                # print(ele, data[ele].values)\n",
    "                if np.isnan(data[ele].values):\n",
    "                    continue\n",
    "                    # print(sv, timestamp, ele, data[ele].values)\n",
    "                if freq_index != int(ele[1]):\n",
    "                    freq_index = int(ele[1])\n",
    "                    # print(str(sv)[0]+ ele[1], Freq)\n",
    "                    obs_msg.freqs.append(Freq[str(sv)[0]+ele[1]])\n",
    "                if ele[0] == 'C':\n",
    "                    obs_msg.psr.append(data[ele].values)\n",
    "                    obs_msg.psr_std.append(-1)\n",
    "                elif ele[0] == 'L':\n",
    "                    obs_msg.cp.append(data[ele].values)\n",
    "                    obs_msg.cp_std.append(-1)\n",
    "                elif ele[0] == 'D':\n",
    "                    obs_msg.dopp.append(data[ele].values)\n",
    "                    obs_msg.dopp_std.append(-1)\n",
    "                elif ele[0] == 'S':\n",
    "                    obs_msg.CN0.append(data[ele].values)\n",
    "        gnss_meas_msg.meas.append(obs_msg)\n",
    "        obs_bag_msg_list.append((timestamp, gnss_meas_msg, topic_name))\n",
    "    return obs_bag_msg_list\n",
    "    # bag.write('/gnss/meas', gnss_meas_msg, t=rospy.Time.from_sec(timestamp))"
   ]
  },
  {
   "cell_type": "code",
   "execution_count": 17,
   "metadata": {},
   "outputs": [
    {
     "name": "stderr",
     "output_type": "stream",
     "text": [
      "/tmp/ipykernel_16578/3658927575.py:3: DeprecationWarning: parsing timezone aware datetimes is deprecated; this will raise an error in the future\n",
      "  return float((date64 - np.datetime64('1970-01-01T00:00:00Z')) / np.timedelta64(1, 's'))\n"
     ]
    }
   ],
   "source": [
    "obs_bag_msg_list = gen_obs_bag_msg(obs_dat, '/gnss/meas')"
   ]
  },
  {
   "cell_type": "code",
   "execution_count": 32,
   "metadata": {},
   "outputs": [
    {
     "name": "stdout",
     "output_type": "stream",
     "text": [
      "1760\n"
     ]
    }
   ],
   "source": [
    "print(len(obs_bag_msg_list))"
   ]
  },
  {
   "cell_type": "code",
   "execution_count": 38,
   "metadata": {},
   "outputs": [
    {
     "name": "stdout",
     "output_type": "stream",
     "text": [
      "1556455491.996999 1556457251.000999\n"
     ]
    },
    {
     "name": "stderr",
     "output_type": "stream",
     "text": [
      "/tmp/ipykernel_16578/3658927575.py:3: DeprecationWarning: parsing timezone aware datetimes is deprecated; this will raise an error in the future\n",
      "  return float((date64 - np.datetime64('1970-01-01T00:00:00Z')) / np.timedelta64(1, 's'))\n"
     ]
    }
   ],
   "source": [
    "print(obs_bag_msg_list[0][0], obs_bag_msg_list[-1][0])\n",
    "base_timestamp_lambda = lambda x : x > obs_bag_msg_list[0][0] - 60 and x < obs_bag_msg_list[-1][0] + 60\n",
    "# base_timestamp_lambda(1560089800)\n",
    "base_bag_msg_list = gen_obs_bag_msg(base_dat, '/gnss/base/meas', timestamp_lambda=base_timestamp_lambda)"
   ]
  },
  {
   "cell_type": "code",
   "execution_count": 39,
   "metadata": {},
   "outputs": [
    {
     "data": {
      "text/plain": [
       "62"
      ]
     },
     "execution_count": 39,
     "metadata": {},
     "output_type": "execute_result"
    }
   ],
   "source": [
    "len(base_bag_msg_list)"
   ]
  },
  {
   "cell_type": "code",
   "execution_count": null,
   "metadata": {},
   "outputs": [],
   "source": [
    "# from datetime import datetime, timezone\n",
    "# date_time = datetime.strptime('2019-01-01 00:00:00', '%Y-%m-%d %H:%M:%S')\n",
    "# print(date_time.timestamp())\n",
    "# print(date_time.replace(tzinfo=timezone.utc).timestamp())\n",
    "# print(date_time.astimezone(timezone.utc).timestamp())\n",
    "# print(datetime.utcnow().astimezone(timezone.utc))\n",
    "# print(datetime.now())"
   ]
  },
  {
   "cell_type": "code",
   "execution_count": 40,
   "metadata": {},
   "outputs": [],
   "source": [
    "ura_eph=[         \n",
    "    2.4,3.4,4.85,6.85,9.65,13.65,24.0,48.0,96.0,192.0,384.0,768.0,1536.0,\n",
    "    3072.0,6144.0,0.0\n",
    "];\n",
    "def uraindex(value):\n",
    "    i = 0\n",
    "    while i < 15:\n",
    "        if (ura_eph[i]>=value):\n",
    "            break\n",
    "        i += 1\n",
    "    return i;"
   ]
  },
  {
   "cell_type": "code",
   "execution_count": 51,
   "metadata": {},
   "outputs": [],
   "source": [
    "import math\n",
    "from typing import Optional, List\n",
    "import xarray\n",
    "def adjday(t, t0):\n",
    "    tt= t - t0\n",
    "    if (tt<-43200.0):\n",
    "        return t + 86400.0\n",
    "    if (tt> 43200.0):\n",
    "        return t - 86400.0\n",
    "    return t\n",
    "def gen_nav_bag_msg(nav_dat : Optional[xarray.DataArray], timestamp_lambda=None):\n",
    "    nav_bag_msg_list = []\n",
    "    time_array = nav_dat.coords['time']\n",
    "    for index in range(len(time_array)):\n",
    "        time_date64 = time_array[index]\n",
    "        timestamp = datetime64totimestamp(time_date64.values)\n",
    "        time_date = datetime.fromtimestamp(timestamp, timezone.utc)\n",
    "        gps_time_o = GPSTime.from_datetime(time_date)\n",
    "        gps_time = utc_to_gpst(gps_time_o)\n",
    "        timestamp = gps_time.as_datetime().timestamp()\n",
    "        if timestamp_lambda is not None and not timestamp_lambda(timestamp):\n",
    "            continue\n",
    "        new_dataset = nav_dat.isel(time=index)\n",
    "        sv_array = new_dataset.coords['sv']\n",
    "        for j in range(len(sv_array)):\n",
    "            sv = str(sv_array[j].values)\n",
    "            # print(\"sv:\", sv)\n",
    "            data = new_dataset.isel(sv=j)\n",
    "            # print(len(data.data_vars))\n",
    "            if sv[0] not in ['C', 'G', 'E', 'J', 'R']:\n",
    "                continue\n",
    "            if sv[0] in ['C', 'G', 'E', 'J']:\n",
    "                if np.isnan(data['SVclockBias'].values):\n",
    "                    continue\n",
    "                msg = GnssEphemMsg()\n",
    "                msg.sat = get_nmea_id_from_prn(sv)\n",
    "                msg.toc.tow = gps_time.tow\n",
    "                msg.toc.week = gps_time.week\n",
    "                msg.af0 = data['SVclockBias'].values\n",
    "                msg.af1 = data['SVclockDrift'].values\n",
    "                msg.af2 = data['SVclockDriftRate'].values\n",
    "                msg.A = data['sqrtA'].values**2\n",
    "                msg.e = data['Eccentricity'].values\n",
    "                msg.i0 = data['Io'].values\n",
    "                msg.OMG0 = data['Omega0'].values\n",
    "                msg.omg = data['omega'].values\n",
    "                msg.M0 = data['M0'].values\n",
    "                msg.delta_n = data['DeltaN'].values\n",
    "                msg.OMG_dot = data['OmegaDot'].values\n",
    "                msg.i_dot = data['IDOT'].values\n",
    "                msg.crc = data['Crc'].values\n",
    "                msg.crs = data['Crs'].values\n",
    "                msg.cuc = data['Cuc'].values\n",
    "                msg.cus = data['Cus'].values\n",
    "                msg.cic = data['Cic'].values\n",
    "                msg.cis = data['Cis'].values\n",
    "                if sv[0] in ['G', 'J']:\n",
    "                    # print(data['IODE'].values)\n",
    "                    msg.iode = int(data['IODE'].values)\n",
    "                    msg.iodc = int(data['IODC'].values)\n",
    "                    msg.toe_tow = data['Toe'].values\n",
    "                    msg.week = int(data['GPSWeek'].values)\n",
    "                    msg.code = int(data['CodesL2'].values)\n",
    "                    msg.health = int(data['health'].values)\n",
    "                    # msg.flag = data['L2Pflag'].values\n",
    "                    msg.tgd0 = data['TGD'].values\n",
    "                    # msg.sva = uraindex(data['SVacc'].values)\n",
    "                    gps_time1 = adjweek(GPSTime(gps_time.week, data['Toe'].values), gps_time)\n",
    "                    gps_time2 = adjweek(GPSTime(gps_time.week, data['TransTime'].values), gps_time)\n",
    "                    msg.toe.week = gps_time1.week\n",
    "                    msg.toe.tow = gps_time1.tow\n",
    "                    msg.ttr.week = gps_time2.week\n",
    "                    msg.ttr.tow = gps_time2.tow\n",
    "                elif sv[0] == 'E':\n",
    "                    msg.week = int(data['GALWeek'].values)\n",
    "                    gps_time1 = adjweek(GPSTime(gps_time.week, data['Toe'].values), gps_time)\n",
    "                    gps_time2 = adjweek(GPSTime(gps_time.week, data['TransTime'].values), gps_time)\n",
    "                    msg.toe.week = gps_time1.week\n",
    "                    msg.toe.tow = gps_time1.tow\n",
    "                    msg.ttr.week = gps_time2.week\n",
    "                    msg.ttr.tow = gps_time2.tow\n",
    "                    msg.health = int(data['health'].values)\n",
    "                    msg.iode = int(data['IODnav'].values)\n",
    "                    msg.toe_tow = data['Toe'].values\n",
    "                    msg.code = int(data['DataSrc'].values)\n",
    "                    msg.tgd0 = data['BGDe5a'].values\n",
    "                    msg.tgd1 = data['BGDe5b'].values\n",
    "                elif sv[0] == 'C':\n",
    "                    gps_time = gps_time + 14\n",
    "                    msg.week = int(data['BDTWeek'].values)\n",
    "                    gps_time1 = adjweek(GPSTime(gps_time.week, data['Toe'].values) + 14, gps_time)\n",
    "                    gps_time2 = adjweek(GPSTime(gps_time.week, data['TransTime'].values) + 14, gps_time)\n",
    "                    msg.toe.week = gps_time1.week\n",
    "                    msg.toe.tow = gps_time1.tow\n",
    "                    msg.ttr.week = gps_time2.week\n",
    "                    msg.ttr.tow = gps_time2.tow    \n",
    "                    msg.health = int(data['SatH1'].values)\n",
    "                    msg.tgd0 = data['TGD1'].values\n",
    "                    msg.tgd1 = data['TGD2'].values\n",
    "                    msg.iodc = int(data['AODE'].values)\n",
    "                    msg.iode = int(data['AODC'].values)\n",
    "                    msg.toe_tow = data['Toe'].values\n",
    "                nav_bag_msg_list.append((timestamp, msg, \"/gnss/ephem\"))\n",
    "            if sv[0] == 'R':\n",
    "                if np.isnan(data['health'].values):\n",
    "                    continue\n",
    "                msg = GnssGloEphemMsg()\n",
    "                msg.sat = get_nmea_id_from_prn(sv)\n",
    "                dow=math.floor(gps_time.tow/86400.0)\n",
    "                new_tow = math.floor((gps_time.tow+450.0)/900.0)*900\n",
    "                gps_time1 = utc_to_gpst(GPSTime(gps_time.week, new_tow))\n",
    "                msg.toe.week = gps_time1.week\n",
    "                msg.toe.tow = gps_time1.tow\n",
    "                tod = math.fmod(data['MessageFrameTime'].values,86400.0) + dow*86400.0\n",
    "                tof = utc_to_gpst(adjday(GPSTime(gps_time.week, tod), gps_time1))\n",
    "                msg.ttr.week = tof.week\n",
    "                msg.ttr.tow = tof.tow\n",
    "                msg.iode = int(math.fmod(gps_time.tow+10800.0,86400.0)/900.0+0.5)\n",
    "                msg.tau_n = data['SVclockBias'].values\n",
    "                msg.gamma = data['SVrelFreqBias'].values\n",
    "                msg.pos_x = data['X'].values\n",
    "                msg.pos_y = data['Y'].values\n",
    "                msg.pos_z = data['Z'].values\n",
    "                msg.vel_x = data['dX'].values\n",
    "                msg.vel_y = data['dY'].values\n",
    "                msg.vel_z = data['dZ'].values\n",
    "                msg.acc_x = data['dX2'].values\n",
    "                msg.acc_y = data['dY2'].values\n",
    "                msg.acc_z = data['dZ2'].values\n",
    "                msg.health = int(data['health'].values)\n",
    "                msg.freqo = int(data['FreqNum'].values)\n",
    "                msg.age = int(data['AgeOpInfo'].values)\n",
    "                nav_bag_msg_list.append((timestamp, msg, \"/gnss/gloephem\"))\n",
    "    return nav_bag_msg_list\n",
    "            # bag_msg_list.append((timestamp, gnss_meas_msg, '/gnss/meas'))"
   ]
  },
  {
   "cell_type": "code",
   "execution_count": 42,
   "metadata": {},
   "outputs": [
    {
     "name": "stderr",
     "output_type": "stream",
     "text": [
      "/tmp/ipykernel_16578/3658927575.py:3: DeprecationWarning: parsing timezone aware datetimes is deprecated; this will raise an error in the future\n",
      "  return float((date64 - np.datetime64('1970-01-01T00:00:00Z')) / np.timedelta64(1, 's'))\n"
     ]
    }
   ],
   "source": [
    "b_nav_msg_list = gen_nav_bag_msg(nav_dat_b)"
   ]
  },
  {
   "cell_type": "code",
   "execution_count": 43,
   "metadata": {},
   "outputs": [
    {
     "name": "stderr",
     "output_type": "stream",
     "text": [
      "/tmp/ipykernel_16578/3658927575.py:3: DeprecationWarning: parsing timezone aware datetimes is deprecated; this will raise an error in the future\n",
      "  return float((date64 - np.datetime64('1970-01-01T00:00:00Z')) / np.timedelta64(1, 's'))\n"
     ]
    }
   ],
   "source": [
    "n_nav_msg_list = gen_nav_bag_msg(nav_dat_n)"
   ]
  },
  {
   "cell_type": "code",
   "execution_count": 44,
   "metadata": {},
   "outputs": [
    {
     "name": "stdout",
     "output_type": "stream",
     "text": [
      "1556455458.0 -> 1556457288.0\n"
     ]
    }
   ],
   "source": [
    "bag_msg_list = obs_bag_msg_list + base_bag_msg_list\n",
    "bag_msg_list.sort(key=lambda x: x[0])\n",
    "print(\"{} -> {}\".format(bag_msg_list[0][0], bag_msg_list[-1][0]))"
   ]
  },
  {
   "cell_type": "code",
   "execution_count": 53,
   "metadata": {},
   "outputs": [],
   "source": [
    "all_nav_msg_list_tmp = b_nav_msg_list + n_nav_msg_list\n",
    "all_nav_msg_list = []\n",
    "for timestamp, bag_msg, topic_name in all_nav_msg_list_tmp:\n",
    "    new_timestamp = timestamp - 7200\n",
    "    if new_timestamp < bag_msg_list[0][0] - 5:\n",
    "        new_timestamp = bag_msg_list[0][0] - 5\n",
    "    if new_timestamp > bag_msg_list[-1][0] + 5:\n",
    "        continue\n",
    "    all_nav_msg_list.append((new_timestamp, bag_msg, topic_name))\n",
    "all_nav_msg_list_tmp = []"
   ]
  },
  {
   "cell_type": "code",
   "execution_count": 54,
   "metadata": {},
   "outputs": [
    {
     "name": "stdout",
     "output_type": "stream",
     "text": [
      "1556455453.0->1556455453.0\n"
     ]
    }
   ],
   "source": [
    "print(\"{}->{}\".format(all_nav_msg_list[0][0], all_nav_msg_list[-1][0]))"
   ]
  },
  {
   "cell_type": "code",
   "execution_count": 55,
   "metadata": {},
   "outputs": [],
   "source": [
    "all_bag_msg_list = bag_msg_list + all_nav_msg_list\n",
    "all_bag_msg_list.sort(key=lambda x: x[0])"
   ]
  },
  {
   "cell_type": "code",
   "execution_count": 56,
   "metadata": {},
   "outputs": [
    {
     "data": {
      "text/plain": [
       "{'ionospheric_corr_BDS': array([ 9.3132e-09,  8.9407e-08, -1.0133e-06,  2.0862e-06,  1.2493e+05,\n",
       "        -6.8813e+05,  6.8813e+06, -7.4056e+06]),\n",
       " 'version': 3.02,\n",
       " 'svtype': ['C'],\n",
       " 'rinextype': 'nav',\n",
       " 'filename': 'hksc1180.19b'}"
      ]
     },
     "execution_count": 56,
     "metadata": {},
     "output_type": "execute_result"
    }
   ],
   "source": [
    "nav_dat_b.attrs"
   ]
  },
  {
   "cell_type": "code",
   "execution_count": 28,
   "metadata": {},
   "outputs": [
    {
     "data": {
      "text/plain": [
       "{'ionospheric_corr_GPS': array([ 9.3132e-09,  1.4901e-08, -5.9605e-08, -1.1921e-07,  8.8064e+04,\n",
       "         4.9152e+04, -1.3107e+05, -3.2768e+05]),\n",
       " 'version': 3.02,\n",
       " 'svtype': ['G'],\n",
       " 'rinextype': 'nav',\n",
       " 'filename': 'hksc1180.19n'}"
      ]
     },
     "execution_count": 28,
     "metadata": {},
     "output_type": "execute_result"
    }
   ],
   "source": [
    "nav_dat_n.attrs"
   ]
  },
  {
   "cell_type": "code",
   "execution_count": 48,
   "metadata": {},
   "outputs": [
    {
     "data": {
      "text/plain": [
       "array([ 9.3132e-09,  1.4901e-08, -5.9605e-08, -1.1921e-07,  8.8064e+04,\n",
       "        4.9152e+04, -1.3107e+05, -3.2768e+05])"
      ]
     },
     "execution_count": 48,
     "metadata": {},
     "output_type": "execute_result"
    }
   ],
   "source": [
    "nav_dat_n.attrs['ionospheric_corr_GPS']"
   ]
  },
  {
   "cell_type": "code",
   "execution_count": 57,
   "metadata": {},
   "outputs": [],
   "source": [
    "iono_msg = StampedFloat64Array()\n",
    "iono_msg.data = nav_dat_n.attrs['ionospheric_corr_GPS']\n",
    "iono_msg.header.stamp = rospy.Time.from_sec(all_bag_msg_list[0][0])\n"
   ]
  },
  {
   "cell_type": "code",
   "execution_count": 58,
   "metadata": {},
   "outputs": [],
   "source": [
    "bag = rosbag.Bag('test.bag', 'w')\n",
    "for timestamp, bag_msg, topic_name in all_bag_msg_list:\n",
    "    # print(timestamp, bag_msg, topic_name)\n",
    "    bag.write(topic_name, bag_msg, t=rospy.Time.from_sec(timestamp))\n",
    "bag.write('/gnss/iono', iono_msg, t=iono_msg.header.stamp)\n",
    "bag.close()"
   ]
  }
 ],
 "metadata": {
  "kernelspec": {
   "display_name": "Python 3.9.7",
   "language": "python",
   "name": "python3"
  },
  "language_info": {
   "codemirror_mode": {
    "name": "ipython",
    "version": 3
   },
   "file_extension": ".py",
   "mimetype": "text/x-python",
   "name": "python",
   "nbconvert_exporter": "python",
   "pygments_lexer": "ipython3",
   "version": "3.9.12"
  },
  "orig_nbformat": 4,
  "vscode": {
   "interpreter": {
    "hash": "0d2c699646e020880484ab5163b28ab914635883e77095b9f42c8b7cff3f1553"
   }
  }
 },
 "nbformat": 4,
 "nbformat_minor": 2
}
